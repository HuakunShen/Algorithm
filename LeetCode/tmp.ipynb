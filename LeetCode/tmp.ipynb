{
 "metadata": {
  "language_info": {
   "codemirror_mode": {
    "name": "ipython",
    "version": 3
   },
   "file_extension": ".py",
   "mimetype": "text/x-python",
   "name": "python",
   "nbconvert_exporter": "python",
   "pygments_lexer": "ipython3",
   "version": "3.8.5-final"
  },
  "orig_nbformat": 2,
  "kernelspec": {
   "name": "python38564bitc7146238eb3042ebaed14d222c2248fd",
   "display_name": "Python 3.8.5 64-bit"
  }
 },
 "nbformat": 4,
 "nbformat_minor": 2,
 "cells": [
  {
   "cell_type": "code",
   "execution_count": 10,
   "metadata": {},
   "outputs": [],
   "source": [
    "import os\n",
    "import re"
   ]
  },
  {
   "cell_type": "code",
   "execution_count": 17,
   "metadata": {},
   "outputs": [],
   "source": [
    "ignore = ['tmp.ipynb', 'README.md', '.DS_Store', '.vscode']\n",
    "dirs = list(filter(lambda x: x not in ignore, os.listdir('.')))"
   ]
  },
  {
   "cell_type": "code",
   "execution_count": 18,
   "metadata": {
    "tags": []
   },
   "outputs": [
    {
     "output_type": "stream",
     "name": "stdout",
     "text": "27. Remove Element\n27.Remove-Element\n3. Longest Substring Without Repeating Characters\n3.Longest-Substring-Without-Repeating-Characters\n1. Two Sum\n1.Two-Sum\n9. Palindrome Number\n9.Palindrome-Number\n11. Container With Most Water\n11.Container-With-Most-Water\n28. Implement strStr()\n28.Implement-strStr()\n20. Valid Parentheses\n20.Valid-Parentheses\n4. Median of Two Sorted Arrays\n4.Median-of-Two-Sorted-Arrays\n36. Valid Sudoku\n36.Valid-Sudoku\n70. Climbing Stairs\n70.Climbing-Stairs\n14. Longest Common Prefix\n14.Longest-Common-Prefix\n7. Reverse Integer\n7.Reverse-Integer\n21. Merge Two Sorted lists\n21.Merge-Two-Sorted-lists\n2. Add Two Numbers\n2.Add-Two-Numbers\n5. Longest Palindromic Substring\n5.Longest-Palindromic-Substring\n300. Longest Increasing Subsequence\n300.Longest-Increasing-Subsequence\n206. Reverse Linked List\n206.Reverse-Linked-List\n26. Remove Duplicates from Sorted Array\n26.Remove-Duplicates-from-Sorted-Array\n"
    }
   ],
   "source": [
    "for d in dirs:\n",
    "    res = re.match('(\\d{1,})\\.\\s(.*)', d)\n",
    "    print(d)\n",
    "    print(res.group(1) + \".\" + res.group(2).replace(\" \", '-'))\n",
    "    os.rename(d, res.group(1) + \".\" + res.group(2).replace(\" \", '-'))\n",
    "    # print(d.replace(' ', '-'))"
   ]
  },
  {
   "cell_type": "code",
   "execution_count": null,
   "metadata": {},
   "outputs": [],
   "source": []
  }
 ]
}